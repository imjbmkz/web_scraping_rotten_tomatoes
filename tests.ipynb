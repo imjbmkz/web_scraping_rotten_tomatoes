{
 "cells": [
  {
   "cell_type": "code",
   "execution_count": 13,
   "metadata": {},
   "outputs": [],
   "source": [
    "# Import required modules and packages\n",
    "import re\n",
    "import time\n",
    "import pandas as pd\n",
    "import undetected_chromedriver as uc\n",
    "from selenium.webdriver.chrome.service import Service\n",
    "from webdriver_manager.chrome import ChromeDriverManager\n",
    "from selenium.webdriver.common.by import By"
   ]
  },
  {
   "cell_type": "code",
   "execution_count": 23,
   "metadata": {},
   "outputs": [],
   "source": [
    "df = pd.read_csv(\"oh_rotten_tomatoes.csv\")"
   ]
  },
  {
   "cell_type": "code",
   "execution_count": 25,
   "metadata": {},
   "outputs": [
    {
     "data": {
      "text/html": [
       "<div>\n",
       "<style scoped>\n",
       "    .dataframe tbody tr th:only-of-type {\n",
       "        vertical-align: middle;\n",
       "    }\n",
       "\n",
       "    .dataframe tbody tr th {\n",
       "        vertical-align: top;\n",
       "    }\n",
       "\n",
       "    .dataframe thead th {\n",
       "        text-align: right;\n",
       "    }\n",
       "</style>\n",
       "<table border=\"1\" class=\"dataframe\">\n",
       "  <thead>\n",
       "    <tr style=\"text-align: right;\">\n",
       "      <th></th>\n",
       "      <th>reviewer</th>\n",
       "      <th>tagline</th>\n",
       "      <th>text</th>\n",
       "      <th>score_all</th>\n",
       "      <th>critic_type</th>\n",
       "    </tr>\n",
       "  </thead>\n",
       "  <tbody>\n",
       "    <tr>\n",
       "      <th>0</th>\n",
       "      <td>Matt Wayt</td>\n",
       "      <td>We Got This Covered</td>\n",
       "      <td>The true test of 'Oppenheimer' is whether Nola...</td>\n",
       "      <td>Full Review | Original Score: 4.5/5 | Sep 2, 2023</td>\n",
       "      <td>All Critics</td>\n",
       "    </tr>\n",
       "    <tr>\n",
       "      <th>1</th>\n",
       "      <td>Rachel West</td>\n",
       "      <td>AWFJ.org</td>\n",
       "      <td>Though the entire ensemble operates as a well-...</td>\n",
       "      <td>Full Review | Aug 29, 2023</td>\n",
       "      <td>All Critics</td>\n",
       "    </tr>\n",
       "    <tr>\n",
       "      <th>2</th>\n",
       "      <td>Juan José Beteta</td>\n",
       "      <td>Cinencuentro</td>\n",
       "      <td>A cinematographic masterpiece... of the highes...</td>\n",
       "      <td>Full Review | Aug 29, 2023</td>\n",
       "      <td>All Critics</td>\n",
       "    </tr>\n",
       "  </tbody>\n",
       "</table>\n",
       "</div>"
      ],
      "text/plain": [
       "           reviewer              tagline  \\\n",
       "0         Matt Wayt  We Got This Covered   \n",
       "1       Rachel West             AWFJ.org   \n",
       "2  Juan José Beteta         Cinencuentro   \n",
       "\n",
       "                                                text  \\\n",
       "0  The true test of 'Oppenheimer' is whether Nola...   \n",
       "1  Though the entire ensemble operates as a well-...   \n",
       "2  A cinematographic masterpiece... of the highes...   \n",
       "\n",
       "                                           score_all  critic_type  \n",
       "0  Full Review | Original Score: 4.5/5 | Sep 2, 2023  All Critics  \n",
       "1                         Full Review | Aug 29, 2023  All Critics  \n",
       "2                         Full Review | Aug 29, 2023  All Critics  "
      ]
     },
     "execution_count": 25,
     "metadata": {},
     "output_type": "execute_result"
    }
   ],
   "source": [
    "df.head(3)"
   ]
  },
  {
   "cell_type": "code",
   "execution_count": 26,
   "metadata": {},
   "outputs": [
    {
     "data": {
      "text/html": [
       "<div>\n",
       "<style scoped>\n",
       "    .dataframe tbody tr th:only-of-type {\n",
       "        vertical-align: middle;\n",
       "    }\n",
       "\n",
       "    .dataframe tbody tr th {\n",
       "        vertical-align: top;\n",
       "    }\n",
       "\n",
       "    .dataframe thead th {\n",
       "        text-align: right;\n",
       "    }\n",
       "</style>\n",
       "<table border=\"1\" class=\"dataframe\">\n",
       "  <thead>\n",
       "    <tr style=\"text-align: right;\">\n",
       "      <th></th>\n",
       "      <th>reviewer</th>\n",
       "      <th>tagline</th>\n",
       "      <th>text</th>\n",
       "      <th>score_all</th>\n",
       "      <th>critic_type</th>\n",
       "    </tr>\n",
       "  </thead>\n",
       "  <tbody>\n",
       "    <tr>\n",
       "      <th>786</th>\n",
       "      <td>Jordan Hoffman</td>\n",
       "      <td>The Messenger</td>\n",
       "      <td>The most breathtaking film of the year.</td>\n",
       "      <td>Full Review | Original Score: 9.2/10 | Jul 19,...</td>\n",
       "      <td>Top Critics</td>\n",
       "    </tr>\n",
       "    <tr>\n",
       "      <th>787</th>\n",
       "      <td>David Ehrlich</td>\n",
       "      <td>indieWire</td>\n",
       "      <td>“Oppenheimer” offers an indelible portrait of ...</td>\n",
       "      <td>Full Review | Original Score: B | Jul 19, 2023</td>\n",
       "      <td>Top Critics</td>\n",
       "    </tr>\n",
       "    <tr>\n",
       "      <th>788</th>\n",
       "      <td>Nick Schager</td>\n",
       "      <td>The Daily Beast</td>\n",
       "      <td>A divided epic of awe and horror, fission and ...</td>\n",
       "      <td>Full Review | Jul 19, 2023</td>\n",
       "      <td>Top Critics</td>\n",
       "    </tr>\n",
       "  </tbody>\n",
       "</table>\n",
       "</div>"
      ],
      "text/plain": [
       "           reviewer          tagline  \\\n",
       "786  Jordan Hoffman    The Messenger   \n",
       "787   David Ehrlich        indieWire   \n",
       "788    Nick Schager  The Daily Beast   \n",
       "\n",
       "                                                  text  \\\n",
       "786            The most breathtaking film of the year.   \n",
       "787  “Oppenheimer” offers an indelible portrait of ...   \n",
       "788  A divided epic of awe and horror, fission and ...   \n",
       "\n",
       "                                             score_all  critic_type  \n",
       "786  Full Review | Original Score: 9.2/10 | Jul 19,...  Top Critics  \n",
       "787     Full Review | Original Score: B | Jul 19, 2023  Top Critics  \n",
       "788                         Full Review | Jul 19, 2023  Top Critics  "
      ]
     },
     "execution_count": 26,
     "metadata": {},
     "output_type": "execute_result"
    }
   ],
   "source": [
    "df.tail(3)"
   ]
  },
  {
   "cell_type": "code",
   "execution_count": 42,
   "metadata": {},
   "outputs": [
    {
     "data": {
      "text/plain": [
       "0       Original Score: 4.5/5\n",
       "1                         NaN\n",
       "2                         NaN\n",
       "3         Original Score: 4/4\n",
       "4                         NaN\n",
       "                ...          \n",
       "784       Original Score: 4/5\n",
       "785                       NaN\n",
       "786    Original Score: 9.2/10\n",
       "787         Original Score: B\n",
       "788                       NaN\n",
       "Name: score_all, Length: 789, dtype: object"
      ]
     },
     "execution_count": 42,
     "metadata": {},
     "output_type": "execute_result"
    }
   ],
   "source": [
    "df.score_all.str.split(\"|\").str[1:-1].str[0].str.strip().str"
   ]
  },
  {
   "cell_type": "code",
   "execution_count": 43,
   "metadata": {},
   "outputs": [],
   "source": [
    "df = pd.read_csv(\"oh_rotten_tomatoes.csv\")"
   ]
  },
  {
   "cell_type": "code",
   "execution_count": 49,
   "metadata": {},
   "outputs": [
    {
     "data": {
      "text/plain": [
       "0       4.5/5\n",
       "1         NaN\n",
       "2         NaN\n",
       "3         4/4\n",
       "4         NaN\n",
       "        ...  \n",
       "804       4/5\n",
       "805       NaN\n",
       "806    9.2/10\n",
       "807         B\n",
       "808       NaN\n",
       "Name: score, Length: 809, dtype: object"
      ]
     },
     "execution_count": 49,
     "metadata": {},
     "output_type": "execute_result"
    }
   ],
   "source": [
    "df[\"score\"].replace(\"Original Score: \", \"\", regex=True)"
   ]
  },
  {
   "cell_type": "code",
   "execution_count": 50,
   "metadata": {},
   "outputs": [],
   "source": [
    "df = pd.read_csv(\"oh_rotten_tomatoes.csv\")"
   ]
  },
  {
   "cell_type": "code",
   "execution_count": 54,
   "metadata": {},
   "outputs": [
    {
     "data": {
      "text/plain": [
       "549"
      ]
     },
     "execution_count": 54,
     "metadata": {},
     "output_type": "execute_result"
    }
   ],
   "source": [
    "df.drop_duplicates().shape[0]"
   ]
  },
  {
   "cell_type": "code",
   "execution_count": 55,
   "metadata": {},
   "outputs": [
    {
     "data": {
      "text/plain": [
       "1009"
      ]
     },
     "execution_count": 55,
     "metadata": {},
     "output_type": "execute_result"
    }
   ],
   "source": [
    "df.shape[0]"
   ]
  },
  {
   "cell_type": "code",
   "execution_count": 32,
   "metadata": {},
   "outputs": [
    {
     "data": {
      "text/plain": [
       "0        Sep 2, 2023\n",
       "1       Aug 29, 2023\n",
       "2       Aug 29, 2023\n",
       "3       Aug 26, 2023\n",
       "4       Aug 26, 2023\n",
       "           ...      \n",
       "784     Jul 19, 2023\n",
       "785     Jul 19, 2023\n",
       "786     Jul 19, 2023\n",
       "787     Jul 19, 2023\n",
       "788     Jul 19, 2023\n",
       "Name: score_all, Length: 789, dtype: object"
      ]
     },
     "execution_count": 32,
     "metadata": {},
     "output_type": "execute_result"
    }
   ],
   "source": [
    "df.score_all.str.split(\"|\").str[-1]"
   ]
  },
  {
   "cell_type": "code",
   "execution_count": 18,
   "metadata": {},
   "outputs": [],
   "source": [
    "# Initialize ChromeDriverManager to manage ChromeDriver versions\n",
    "chrome_manager = ChromeDriverManager()\n",
    "version_main = int(chrome_manager.driver.get_browser_version_from_os().split(\".\")[0])\n",
    "driver = uc.Chrome(\n",
    "    service=Service(ChromeDriverManager().install()),\n",
    "    version_main=version_main\n",
    ")\n",
    "\n",
    "dfs = []\n",
    "\n",
    "# Open the Rotten Tomatoes page for a specific movie and collect reviews for specified critic types\n",
    "driver.get(\"https://www.rottentomatoes.com/m/oppenheimer_2023/reviews?type=top_critics\")"
   ]
  },
  {
   "cell_type": "code",
   "execution_count": 22,
   "metadata": {},
   "outputs": [
    {
     "data": {
      "text/plain": [
       "['Kimber Myers',\n",
       " 'Crooked Marquee',\n",
       " 'TOP CRITIC',\n",
       " 'This is a complex look at a complicated man, but Oppenheimer unequivocally establishes that this is a story worth telling -- and that Nolan was the perfect filmmaker to do it.',\n",
       " 'Full Review | Original Score: A- | Aug 3, 2023']"
      ]
     },
     "execution_count": 22,
     "metadata": {},
     "output_type": "execute_result"
    }
   ],
   "source": [
    "driver.find_element(By.CLASS_NAME, \"review-row\").text.split(\"\\n\")"
   ]
  }
 ],
 "metadata": {
  "kernelspec": {
   "display_name": "web_scraping_rotten_tomatoes",
   "language": "python",
   "name": "python3"
  },
  "language_info": {
   "codemirror_mode": {
    "name": "ipython",
    "version": 3
   },
   "file_extension": ".py",
   "mimetype": "text/x-python",
   "name": "python",
   "nbconvert_exporter": "python",
   "pygments_lexer": "ipython3",
   "version": "3.11.3"
  },
  "orig_nbformat": 4
 },
 "nbformat": 4,
 "nbformat_minor": 2
}
